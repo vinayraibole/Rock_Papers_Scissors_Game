{
 "cells": [
  {
   "cell_type": "markdown",
   "metadata": {
    "id": "eUdQehg0qXbV"
   },
   "source": [
    "# Import Libraries"
   ]
  },
  {
   "cell_type": "code",
   "execution_count": 11,
   "metadata": {
    "id": "76Wz-65jqpdW"
   },
   "outputs": [],
   "source": [
    "from tkinter import * #To create a GUI for the game\n",
    "import random #For random choice of the computer"
   ]
  },
  {
   "cell_type": "markdown",
   "metadata": {},
   "source": [
    "# Define Play function to suit the game logic"
   ]
  },
  {
   "cell_type": "code",
   "execution_count": 12,
   "metadata": {},
   "outputs": [],
   "source": [
    "def Play():\n",
    "    user_pick = user_take.get().strip().capitalize()\n",
    "    comp_pick = ['Rock', 'Paper', 'Scissors'][random.randint(0,2)]\n",
    "    conditions = {'Rock': 'Scissors',\n",
    "                'Paper': 'Rock',\n",
    "                'Scissors': 'Paper'}\n",
    "    if user_pick not in ['Rock', 'Paper', 'Scissors']:\n",
    "        Result.set('Invalid Choice. Choose any one -- Rock, Paper, Scissors')\n",
    "    elif user_pick == comp_pick:\n",
    "        Result.set('The game is a tie. You both picked the same.')\n",
    "    elif conditions[user_pick] == comp_pick:\n",
    "        Result.set('You Win. Computer selected: ' + comp_pick)\n",
    "    else:\n",
    "        Result.set('You Lose. Computer selected: ' + comp_pick)"
   ]
  },
  {
   "cell_type": "markdown",
   "metadata": {},
   "source": [
    "# Define what Reset Buttion will do"
   ]
  },
  {
   "cell_type": "code",
   "execution_count": 13,
   "metadata": {},
   "outputs": [],
   "source": [
    "def Reset():\n",
    "    Result.set(\"\")\n",
    "    user_take.set(\"\")"
   ]
  },
  {
   "cell_type": "markdown",
   "metadata": {},
   "source": [
    "# Define what Exit Button will do"
   ]
  },
  {
   "cell_type": "code",
   "execution_count": 14,
   "metadata": {},
   "outputs": [],
   "source": [
    "def Exit():\n",
    "    root.destroy()\n",
    "    exit()"
   ]
  },
  {
   "cell_type": "code",
   "execution_count": 15,
   "metadata": {
    "id": "K-d3ax0LqscQ"
   },
   "outputs": [],
   "source": [
    "#Creating a tinker object window\n",
    "root = Tk() \n",
    "\n",
    "#Assigning the size of the window\n",
    "root.geometry('400x400')\n",
    "root.resizable(0,0)\n",
    "\n",
    "#Assigning title and background color to the window\n",
    "root.title('Rock-Paper-Scissors')\n",
    "root.config(bg = 'seashell3')\n",
    "\n",
    "#Creating a widget to display title\n",
    "Label(root, text = 'Rock, Paper, Scissors', font = 'arial 20 bold', bg = 'seashell2').pack()\n",
    "\n",
    "#Defining variable for user choice\n",
    "user_take = StringVar()\n",
    "\n",
    "#Creating a widget for displaying available user choices\n",
    "Label(root, text = 'Choose any one: Rock, Paper, Scissors', font = 'arial 15 bold', bg = 'seashell2').place(x=30,y=70)\n",
    "\n",
    "#Creating input field for user choice\n",
    "Entry(root, font = 'arial 15', textvariable = user_take, bg = 'antiquewhite2').place(x = 90, y = 130)\n",
    "\n",
    "\n",
    "Result = StringVar()\n",
    "#Creating a widget to display the result of the game\n",
    "Label(root, font = 'arial 10 bold', textvariable= Result, bg = 'antiquewhite2', width = 50).place(x=25, y=250)\n",
    "\n",
    "#Creating Play, Reset & Exi Buttons\n",
    "Button(root, font = 'arial 13 bold', text = 'PLAY', padx = 5, bg = 'seashell4', command = Play).place(x=150, y=190)\n",
    "Button(root, font = 'arial 13 bold', text = 'RESET', padx = 5, bg = 'seashell4', command = Reset).place(x=70, y=310)\n",
    "Button(root, font = 'arial 13 bold', text = 'EXIT', padx = 5, bg = 'seashell4', command = Exit).place(x=230, y=310)"
   ]
  },
  {
   "cell_type": "code",
   "execution_count": 16,
   "metadata": {},
   "outputs": [],
   "source": [
    "root.mainloop()"
   ]
  },
  {
   "cell_type": "code",
   "execution_count": null,
   "metadata": {},
   "outputs": [],
   "source": []
  }
 ],
 "metadata": {
  "colab": {
   "provenance": [],
   "toc_visible": true
  },
  "kernelspec": {
   "display_name": "Python 3 (ipykernel)",
   "language": "python",
   "name": "python3"
  },
  "language_info": {
   "codemirror_mode": {
    "name": "ipython",
    "version": 3
   },
   "file_extension": ".py",
   "mimetype": "text/x-python",
   "name": "python",
   "nbconvert_exporter": "python",
   "pygments_lexer": "ipython3",
   "version": "3.9.7"
  }
 },
 "nbformat": 4,
 "nbformat_minor": 1
}
